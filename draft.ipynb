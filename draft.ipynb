{
 "cells": [],
 "metadata": {
  "kernelspec": {
   "display_name": "pdf2md",
   "language": "python",
   "name": "python3"
  },
  "language_info": {
   "name": "python",
   "version": "3.11.11"
  }
 },
 "nbformat": 4,
 "nbformat_minor": 2
}
